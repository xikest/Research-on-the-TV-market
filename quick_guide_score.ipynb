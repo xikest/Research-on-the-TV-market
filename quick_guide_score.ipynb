{
 "cells": [
  {
   "cell_type": "markdown",
   "id": "1f063cfb",
   "metadata": {},
   "source": [
    "# QuickGuide for socres\n",
    "\n",
    "[프로젝트 페이지: Research-on-the-TV-market](https://github.com/xikest/Research-on-the-TV-market)"
   ]
  },
  {
   "cell_type": "markdown",
   "id": "52df8a57",
   "metadata": {},
   "source": [
    "## Env setting"
   ]
  },
  {
   "cell_type": "markdown",
   "id": "a21fafa2",
   "metadata": {},
   "source": [
    "### Install Package"
   ]
  },
  {
   "cell_type": "code",
   "execution_count": 1,
   "id": "9e1b74f7",
   "metadata": {},
   "outputs": [],
   "source": [
    "!pip install getmodelspec -U\n",
    "getmodelspec.WebDriver.installChromiumSeleniumBs4()"
   ]
  },
  {
   "cell_type": "markdown",
   "id": "86dcd580",
   "metadata": {},
   "source": [
    "- `os.kill(os.getpid(), 9)`은 런타임 재시작 입니다. 아래부터 이어서 진행하면 됩니다."
   ]
  },
  {
   "cell_type": "markdown",
   "id": "6e1cbb67",
   "metadata": {},
   "source": [
    "### Package setting"
   ]
  },
  {
   "cell_type": "code",
   "execution_count": 5,
   "id": "8e611f88",
   "metadata": {},
   "outputs": [],
   "source": [
    "import pandas as pd\n",
    "from datetime import date\n",
    "from getmodelspec import Score"
   ]
  },
  {
   "cell_type": "markdown",
   "id": "0429c013",
   "metadata": {},
   "source": [
    "## Act"
   ]
  },
  {
   "cell_type": "code",
   "execution_count": 1,
   "id": "991f097d",
   "metadata": {},
   "outputs": [],
   "source": [
    "score = Score()\n",
    "\n",
    "prefix = \"https://www.rtings.com/tv/reviews/sony/\",\n",
    "series = \"x85k\"\n",
    "\n",
    "dictModelScore = score.getRthinsScore(prefix=prefix, series=series)\n",
    "dfModelScore = pd.DataFrame.from_dict(dictModelScore, orient=\"index\", columns=[\"score\"])\n",
    "dfModelScore = dfModelScore.rename_axis('model').reset_index()\n",
    "\n",
    "fileName=f\"{series}_score_{date.today().strftime('%Y-%m-%d')}.xlsx\"\n",
    "dfModelScore.to_excel(fileName, index=False)# 엑셀 파일로 저장"
   ]
  },
  {
   "cell_type": "markdown",
   "id": "1cd68dd3",
   "metadata": {},
   "source": [
    "- colab에서 파일 받기"
   ]
  },
  {
   "cell_type": "code",
   "execution_count": null,
   "id": "62e82f02",
   "metadata": {},
   "outputs": [],
   "source": [
    "#colab 환경이 아니라면 비활성화\n",
    "from google.colab import files\n",
    "files.download(fileName) # 파일 다운로드"
   ]
  },
  {
   "cell_type": "markdown",
   "id": "f84d923e",
   "metadata": {},
   "source": [
    "---"
   ]
  }
 ],
 "metadata": {
  "kernelspec": {
   "display_name": "Python 3 (ipykernel)",
   "language": "python",
   "name": "python3"
  },
  "language_info": {
   "codemirror_mode": {
    "name": "ipython",
    "version": 3
   },
   "file_extension": ".py",
   "mimetype": "text/x-python",
   "name": "python",
   "nbconvert_exporter": "python",
   "pygments_lexer": "ipython3",
   "version": "3.7.16"
  },
  "toc": {
   "base_numbering": 1,
   "nav_menu": {},
   "number_sections": true,
   "sideBar": true,
   "skip_h1_title": false,
   "title_cell": "Table of Contents",
   "title_sidebar": "Contents",
   "toc_cell": false,
   "toc_position": {},
   "toc_section_display": true,
   "toc_window_display": false
  }
 },
 "nbformat": 4,
 "nbformat_minor": 5
}
