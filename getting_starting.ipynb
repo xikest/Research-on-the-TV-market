{
 "cells": [
  {
   "cell_type": "markdown",
   "id": "52df8a57",
   "metadata": {},
   "source": [
    "## 1. Setting"
   ]
  },
  {
   "cell_type": "markdown",
   "id": "70b92d40",
   "metadata": {},
   "source": [
    "-  For Coalab setting\n",
    "- Coalab에서 사용할 경우 활성화 하세요"
   ]
  },
  {
   "cell_type": "markdown",
   "id": "30216803",
   "metadata": {},
   "source": [
    "### 1-1) Install Colab selenium & crome driver"
   ]
  },
  {
   "cell_type": "code",
   "execution_count": null,
   "id": "9142d357",
   "metadata": {},
   "outputs": [],
   "source": [
    "# # 이 부분은 처음 한번만 실행.\n",
    "\n",
    "# %%shell\n",
    "# # Ubuntu no longer distributes chromium-browser outside of snap\n",
    "# #\n",
    "# # Proposed solution: https://askubuntu.com/questions/1204571/how-to-install-chromium-without-snap\n",
    "\n",
    "# # Add debian buster\n",
    "# cat > /etc/apt/sources.list.d/debian.list <<'EOF'\n",
    "# deb [arch=amd64 signed-by=/usr/share/keyrings/debian-buster.gpg] http://deb.debian.org/debian buster main\n",
    "# deb [arch=amd64 signed-by=/usr/share/keyrings/debian-buster-updates.gpg] http://deb.debian.org/debian buster-updates main\n",
    "# deb [arch=amd64 signed-by=/usr/share/keyrings/debian-security-buster.gpg] http://deb.debian.org/debian-security buster/updates main\n",
    "# EOF\n",
    "\n",
    "# # Add keys\n",
    "# apt-key adv --keyserver keyserver.ubuntu.com --recv-keys DCC9EFBF77E11517\n",
    "# apt-key adv --keyserver keyserver.ubuntu.com --recv-keys 648ACFD622F3D138\n",
    "# apt-key adv --keyserver keyserver.ubuntu.com --recv-keys 112695A0E562B32A\n",
    "\n",
    "# apt-key export 77E11517 | gpg --dearmour -o /usr/share/keyrings/debian-buster.gpg\n",
    "# apt-key export 22F3D138 | gpg --dearmour -o /usr/share/keyrings/debian-buster-updates.gpg\n",
    "# apt-key export E562B32A | gpg --dearmour -o /usr/share/keyrings/debian-security-buster.gpg\n",
    "\n",
    "# # Prefer debian repo for chromium* packages only\n",
    "# # Note the double-blank lines between entries\n",
    "# cat > /etc/apt/preferences.d/chromium.pref << 'EOF'\n",
    "# Package: *\n",
    "# Pin: release a=eoan\n",
    "# Pin-Priority: 500\n",
    "\n",
    "\n",
    "# Package: *\n",
    "# Pin: origin \"deb.debian.org\"\n",
    "# Pin-Priority: 300\n",
    "\n",
    "\n",
    "# Package: chromium*\n",
    "# Pin: origin \"deb.debian.org\"\n",
    "# Pin-Priority: 700\n",
    "# EOF\n",
    "\n",
    "# # Install chromium and chromium-driver\n",
    "# apt-get update\n",
    "# apt-get install chromium chromium-driver\n",
    "\n",
    "# # Install selenium\n",
    "# pip install selenium"
   ]
  },
  {
   "cell_type": "markdown",
   "id": "a21fafa2",
   "metadata": {},
   "source": [
    "### 1-2) Install Package"
   ]
  },
  {
   "cell_type": "code",
   "execution_count": null,
   "id": "9e1b74f7",
   "metadata": {},
   "outputs": [],
   "source": [
    "# pip install getModelSpec\n",
    "\n",
    "# import os\n",
    "# os.kill(os.getpid(), 9)"
   ]
  },
  {
   "cell_type": "markdown",
   "id": "6e1cbb67",
   "metadata": {},
   "source": [
    "## 2.  Import Package"
   ]
  },
  {
   "cell_type": "code",
   "execution_count": null,
   "id": "4ac45040",
   "metadata": {},
   "outputs": [],
   "source": [
    "import sys\n",
    "sys.path.insert(0,'/usr/lib/chromium-browser/chromedriver') #크롬 드라이버  경로 설정"
   ]
  },
  {
   "cell_type": "code",
   "execution_count": 5,
   "id": "8e611f88",
   "metadata": {},
   "outputs": [],
   "source": [
    "from datetime import date\n",
    "from src import GetSONY"
   ]
  },
  {
   "cell_type": "markdown",
   "id": "0429c013",
   "metadata": {},
   "source": [
    "## 3. Act"
   ]
  },
  {
   "cell_type": "code",
   "execution_count": 1,
   "id": "991f097d",
   "metadata": {},
   "outputs": [],
   "source": [
    "sony = GetSONY()\n",
    "df_models=sony.getModels()"
   ]
  },
  {
   "cell_type": "code",
   "execution_count": null,
   "id": "203689d9",
   "metadata": {},
   "outputs": [],
   "source": [
    "fileName=f\"sony_TV_series_{date.today().strftime(\"%Y-%m-%d\")}.xlsx\"\n",
    "# 엑셀 파일로 저장\n",
    "df_models.to_excel(fileName, index=False)\n",
    "\n",
    "# 파일 다운로드\n",
    "files.download(fileName)"
   ]
  }
 ],
 "metadata": {
  "kernelspec": {
   "display_name": "Python 3 (ipykernel)",
   "language": "python",
   "name": "python3"
  },
  "language_info": {
   "codemirror_mode": {
    "name": "ipython",
    "version": 3
   },
   "file_extension": ".py",
   "mimetype": "text/x-python",
   "name": "python",
   "nbconvert_exporter": "python",
   "pygments_lexer": "ipython3",
   "version": "3.7.16"
  }
 },
 "nbformat": 4,
 "nbformat_minor": 5
}
