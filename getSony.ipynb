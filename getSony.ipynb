{
 "cells": [
  {
   "cell_type": "markdown",
   "id": "52df8a57",
   "metadata": {},
   "source": [
    "## Install"
   ]
  },
  {
   "cell_type": "markdown",
   "id": "5ff24f63",
   "metadata": {},
   "source": [
    "### For Coalab setting\n",
    "- Coalab에서 사용할 경우 활성화 하세요"
   ]
  },
  {
   "cell_type": "code",
   "execution_count": null,
   "id": "9e1b74f7",
   "metadata": {},
   "outputs": [],
   "source": [
    "# !pip install selenium\n",
    "# !apt-get update # colab에서는 필요한 경우 시스템 패키지를 업데이트해야 할 수 있습니다.\n",
    "# !apt install chromium-chromedriver\n",
    "\n",
    "# !pip install getModelSpec"
   ]
  },
  {
   "cell_type": "markdown",
   "id": "6e1cbb67",
   "metadata": {},
   "source": [
    "## Import Package"
   ]
  },
  {
   "cell_type": "code",
   "execution_count": null,
   "id": "4ac45040",
   "metadata": {},
   "outputs": [],
   "source": [
    "import sys\n",
    "sys.path.insert(0,'/usr/lib/chromium-browser/chromedriver') #크롬 드라이버  경로 설정"
   ]
  },
  {
   "cell_type": "code",
   "execution_count": 5,
   "id": "8e611f88",
   "metadata": {},
   "outputs": [],
   "source": [
    "from datetime import date\n",
    "from src import GetSONY"
   ]
  },
  {
   "cell_type": "code",
   "execution_count": 1,
   "id": "991f097d",
   "metadata": {},
   "outputs": [],
   "source": [
    "sony = GetSONY()\n",
    "df_models=sony.getModels()"
   ]
  },
  {
   "cell_type": "code",
   "execution_count": null,
   "id": "203689d9",
   "metadata": {},
   "outputs": [],
   "source": [
    "fileName=f\"sony_TV_series_{date.today().strftime(\"%Y-%m-%d\")}.xlsx\"\n",
    "# 엑셀 파일로 저장\n",
    "df_models.to_excel(fileName, index=False)\n",
    "\n",
    "# 파일 다운로드\n",
    "files.download(fileName)"
   ]
  }
 ],
 "metadata": {
  "kernelspec": {
   "display_name": "Python 3 (ipykernel)",
   "language": "python",
   "name": "python3"
  },
  "language_info": {
   "codemirror_mode": {
    "name": "ipython",
    "version": 3
   },
   "file_extension": ".py",
   "mimetype": "text/x-python",
   "name": "python",
   "nbconvert_exporter": "python",
   "pygments_lexer": "ipython3",
   "version": "3.7.16"
  }
 },
 "nbformat": 4,
 "nbformat_minor": 5
}
